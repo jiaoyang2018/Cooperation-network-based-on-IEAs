{
 "cells": [
  {
   "cell_type": "code",
   "execution_count": 2,
   "metadata": {},
   "outputs": [],
   "source": [
    "import numpy  as np\n",
    "import pandas as pd\n",
    "import networkx as nx\n",
    "from networkx.algorithms import bipartite as bi\n",
    "import matplotlib.pyplot as plt\n",
    "from datetime import datetime\n",
    "from imp import reload \n",
    "import os\n",
    "from tqdm import tqdm\n",
    "from scipy import stats as st\n",
    "\n",
    "\n",
    "import  weighted_network as wn\n",
    "import dataset_construction as dc\n",
    "\n",
    "import seaborn as sns\n",
    "import bipcm"
   ]
  },
  {
   "cell_type": "code",
   "execution_count": 3,
   "metadata": {},
   "outputs": [
    {
     "data": {
      "image/png": "[encoded data removed]",
      "text/plain": [
       "<Figure size 216x72 with 1 Axes>"
      ]
     },
     "metadata": {
      "needs_background": "light"
     },
     "output_type": "display_data"
    }
   ],
   "source": [
    "colours=['#8D95A0','#2171b5','#DA6437']\n",
    "own=sns.color_palette(colours)\n",
    "\n",
    "sns.palplot(own)\n",
    "sns.set_palette(own)"
   ]
  },
  {
   "cell_type": "markdown",
   "metadata": {},
   "source": [
    "# This notebook provides the codes for the figures and tables in the main paper and the appendix"
   ]
  },
  {
   "cell_type": "markdown",
   "metadata": {},
   "source": [
    "## Figures"
   ]
  },
  {
   "cell_type": "markdown",
   "metadata": {},
   "source": [
    "### Figure 1: Cumulative frequency of treaties for different subjects in 2015"
   ]
  },
  {
   "cell_type": "code",
   "execution_count": null,
   "metadata": {},
   "outputs": [],
   "source": [
    "df_subjects=pd.read_csv('IEA_data/subject_cat.csv')\n",
    "df_treaty_subjects=pd.read_csv('IEA_data/subject_rel.csv')\n",
    "df_parties_total=pd.read_csv(\"IEA_data/parties.csv\",sep=\",\")\n",
    "\n",
    "list_TypeofDates=['date_entry_into_force','date_ratification','date_simple_sigNMture','date_definite_sigNMture','date_withdrawal','date_consent_to_be_bound','date_accession_approv','date_acceptance_approv','date_provisioNMl_application','date_succession','date_reservation']\n",
    "for i in list_TypeofDates:\n",
    "    df_parties_total[i]=pd.to_datetime(df_parties_total[i],format='%d/%m/%Y')\n",
    "df_parties_1=df_parties_total[(df_parties_total['date_entry_into_force']<datetime(1947,12,31))|(df_parties_total['date_ratification']<datetime(1947,12,31))]\n",
    "\n",
    "old_treaties=set(df_parties_1['treaty_id'])\n",
    "for i in old_treaties:\n",
    "    df_parties_total=df_parties_total[df_parties_total['treaty_id']!=i]\n",
    "\n",
    "\n",
    "df_notnull=df_parties_total[df_parties_total['date_ratification'].notnull()|df_parties_total['date_entry_into_force'].notnull()]\n",
    "set_notnull=set(df_notnull['treaty_id'])\n",
    "\n",
    "treaties=list(set(list(df_notnull['treaty_id'])))\n",
    "df_treaties=pd.DataFrame(treaties,columns=['treaty_id'])\n",
    "df_parties_1=pd.merge(df_treaties,df_treaty_subjects,left_on='treaty_id',right_on='treaty_id',how='left')\n",
    "\n",
    "# get the distribution of the subjects\n",
    "subject_distribution_notnull={}\n",
    "for i in df_subjects['id']:\n",
    "    key=list(df_subjects[df_subjects['id']==i]['subject'])[0]\n",
    "    subject_distribution_notnull[key]=len(df_parties_1[df_parties_1['subject_id']==i])\n",
    "    \n",
    "subject_distribution_ordered_notnull=dict(sorted(subject_distribution_notnull.items(), key=lambda d: d[1]))"
   ]
  },
  {
   "cell_type": "code",
   "execution_count": null,
   "metadata": {},
   "outputs": [],
   "source": [
    "sub_y=list(subject_distribution_ordered_notnull.keys())\n",
    "sub_x=list(subject_distribution_ordered_notnull.values())\n",
    "num_type=np.arange(len(sub_y))\n",
    "\n",
    "x_lim=[0,180]\n",
    "\n",
    "\n",
    "figsize = 12,9\n",
    "figure, ax = plt.subplots(figsize=figsize)\n",
    "\n",
    "font1 = {'family' : 'Times New Roman',\n",
    "    'weight' : 'normal',\n",
    "    'size'   : 24,\n",
    "    }\n",
    "\n",
    "plt.barh(num_type, sub_x, color=colours[1],tick_label=sub_y,height=0.5)\n",
    "\n",
    "\n",
    "ax.set_xlim(x_lim)\n",
    "\n",
    "plt.xticks(np.arange(0, 176, step=25))\n",
    "\n",
    "plt.tick_params(labelsize=23)\n",
    "labels = ax.get_xticklabels() + ax.get_yticklabels()\n",
    "[label.set_fontname('Times New Roman') for label in labels]\n",
    "\n",
    "ax.spines['top'].set_visible(False) \n",
    "ax.spines['right'].set_visible(False) \n",
    "ax.spines['bottom'].set_visible(False) \n",
    "\n",
    "plt.tick_params(axis=\"both\", which=\"both\", bottom=False, top=False, labelbottom=True, left=False, right=False, labelleft=True) \n",
    "\n",
    "\n",
    "font2 = {'family' : 'Times New Roman',\n",
    "    'weight' : 'normal',\n",
    "    'size'   : 32,\n",
    "    }\n",
    "\n",
    "plt.xlabel('Number of treaties',font2)\n",
    "plt.ylabel(\"Subjects of treaties\",font2)\n",
    "\n",
    "plt.grid(axis='x',linestyle='--', linewidth=1.2,color=\"black\", alpha=0.3)\n",
    "\n",
    "plt.subplots_adjust(left=0.34) \n",
    "\n",
    "\n",
    "plt.savefig(\"results/TreatySubjectsOrdered_new.pdf\", bbox_inches='tight')"
   ]
  },
  {
   "cell_type": "markdown",
   "metadata": {},
   "source": [
    "### Figures 3-7： Cumulative frequency of nodes, Cumulative frequency of links, Average degree, Average strength, Cumulative density, Average weighted shortest distance, Global clustering coefficient from 1971 to 2015"
   ]
  },
  {
   "cell_type": "code",
   "execution_count": null,
   "metadata": {},
   "outputs": [],
   "source": [
    "df_country=pd.read_csv('results/global_measures_country_network.csv')\n",
    "df_UN=pd.read_csv('results/global_measures_country_network_UN.csv')\n",
    "df_UNagency=pd.read_csv('results/gloabl_measures_country_without_UN&Agencies.csv')"
   ]
  },
  {
   "cell_type": "code",
   "execution_count": null,
   "metadata": {},
   "outputs": [],
   "source": [
    "def plot_global_measures(x1,x2,x3,y1,y2,y3,x_lim,y_lim,x_label,y_label,loc,file_name):\n",
    "   \n",
    "\n",
    "    figsize = 12,9\n",
    "    figure, ax = plt.subplots(figsize=figsize)\n",
    "\n",
    "    \n",
    "    A,=plt.plot(x1,y1,c=colours[1],label='All treaites',linewidth=4)\n",
    "    C,=plt.plot(x2,y2,color=colours[0],label='Excluding UN treaties',linewidth=4, linestyle='--', alpha=0.9)\n",
    "    D,=plt.plot(x3,y3,c=colours[0],label='Excluding UN & UN agency treaties',linewidth=4, linestyle=':',alpha=0.9)\n",
    "    \n",
    "    \n",
    "    font1 = {'family' : 'Times New Roman',\n",
    "    'weight' : 'normal',\n",
    "    'size'   : 22,\n",
    "    }\n",
    "    \n",
    "    legend = plt.legend(handles=[A,C,D],prop=font1,loc=loc,facecolor=None )\n",
    "    legend.get_frame().set_linewidth(0.0)\n",
    "\n",
    "    ax.spines['top'].set_visible(False) #去掉上边框\n",
    "    ax.spines['right'].set_visible(False) #去掉左边框\n",
    "    ax.spines['left'].set_visible(False) #去掉右边框\n",
    "    \n",
    "    ax.get_xaxis().tick_bottom()    \n",
    "    ax.get_yaxis().tick_left() \n",
    "    \n",
    "    ax.set_xlim(x_lim)\n",
    "    ax.set_ylim(y_lim)\n",
    "    labels = ax.get_xticklabels() + ax.get_yticklabels()\n",
    "    [label.set_fontname('Times New Roman') for label in labels]\n",
    "    \n",
    "    \n",
    "    plt.yticks(fontsize=25)    \n",
    "    plt.xticks(fontsize=25)  \n",
    "    \n",
    "\n",
    "    plt.grid(axis='y',linestyle='--', linewidth=1.2,color=\"black\", alpha=0.3)\n",
    "\n",
    "        \n",
    "    plt.tick_params(axis=\"both\", which=\"both\", bottom=False, top=False,    \n",
    "                labelbottom=True, left=False, right=False, labelleft=True) \n",
    "    \n",
    "    \n",
    "    font2 = {'family' : 'Times New Roman',\n",
    "    'weight' : 'normal',\n",
    "    'size'   : 32,\n",
    "    }\n",
    "    plt.xlabel(x_label,font2)\n",
    "    plt.ylabel(y_label,font2)\n",
    "    \n",
    "\n",
    "    file_name='results/'+file_name+'.pdf'\n",
    "    plt.savefig(file_name)\n",
    "\n"
   ]
  },
  {
   "cell_type": "code",
   "execution_count": null,
   "metadata": {},
   "outputs": [],
   "source": [
    "aa='number_of_nodes'\n",
    "bb='number_of_links'\n",
    "cc='density'\n",
    "dd='number_of_components'\n",
    "ee='fraction_of_largest_component'\n",
    "ff='average_degree'\n",
    "gg='average_strength'\n",
    "hh='average_weighted_shortest_path_length'\n",
    "jj='weighted_global_clustering_coefficient'"
   ]
  },
  {
   "cell_type": "code",
   "execution_count": null,
   "metadata": {},
   "outputs": [],
   "source": [
    "a='Cumulative frequency of nodes'\n",
    "b='Cumulative frequency of links'\n",
    "c='Cumulative density'\n",
    "d='Cumulative frequency of components'\n",
    "e='Fraction of the largest component'\n",
    "f='Average degree'\n",
    "g='Average strength'\n",
    "h='Average weighted shortest distance'\n",
    "j='Weighted global clustering coefficient'"
   ]
  },
  {
   "cell_type": "code",
   "execution_count": null,
   "metadata": {},
   "outputs": [],
   "source": [
    "measure=cc\n",
    "plot_global_measures(df_country['year'],df_UN['year'],df_UNagency['year'], df_country[measure],df_UN[measure],df_UNagency[measure],\n",
    "         [1965,2020],[0.,1.01],'Year',c,'lower right','density')\n"
   ]
  },
  {
   "cell_type": "code",
   "execution_count": null,
   "metadata": {},
   "outputs": [],
   "source": [
    "measure='ratio'\n",
    "plot_global_measures(df1['year'],df2['year'],df3['year'],df1['year'], df1[measure],df2[measure],df3[measure],df1[measure],\n",
    "         [1965,2020],[0.,1],'Year','Proportion of countries','lower right','NodesRatio_Robu_Agency')\n"
   ]
  },
  {
   "cell_type": "code",
   "execution_count": null,
   "metadata": {},
   "outputs": [],
   "source": []
  }
 ],
 "metadata": {
  "kernelspec": {
   "display_name": "Python 3",
   "language": "python",
   "name": "python3"
  },
  "language_info": {
   "codemirror_mode": {
    "name": "ipython",
    "version": 3
   },
   "file_extension": ".py",
   "mimetype": "text/x-python",
   "name": "python",
   "nbconvert_exporter": "python",
   "pygments_lexer": "ipython3",
   "version": "3.7.2"
  }
 },
 "nbformat": 4,
 "nbformat_minor": 4
}
