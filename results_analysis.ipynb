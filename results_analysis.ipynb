{
 "cells": [
  {
   "cell_type": "code",
   "execution_count": null,
   "metadata": {},
   "outputs": [],
   "source": [
    "import numpy  as np\n",
    "import pandas as pd\n",
    "import networkx as nx\n",
    "from networkx.algorithms import bipartite as bi\n",
    "import matplotlib.pyplot as plt\n",
    "from datetime import datetime\n",
    "from imp import reload \n",
    "import os\n",
    "from tqdm import tqdm\n",
    "from scipy import stats as st\n",
    "\n",
    "\n",
    "import  weighted_network as wn\n",
    "import dataset_construction as dc\n",
    "\n",
    "import seaborn as sns\n",
    "import bipcm"
   ]
  },
  {
   "cell_type": "markdown",
   "metadata": {},
   "source": [
    "# This notebook provides the codes for the figures and tables in the main paper and the appendix"
   ]
  },
  {
   "cell_type": "markdown",
   "metadata": {},
   "source": [
    "## Figures"
   ]
  },
  {
   "cell_type": "markdown",
   "metadata": {},
   "source": [
    "### Figure 1: Cumulative frequency of treaties for different subjects in 2015"
   ]
  },
  {
   "cell_type": "code",
   "execution_count": null,
   "metadata": {},
   "outputs": [],
   "source": [
    "df_subjects=pd.read_csv('IEA_data/subject_cat.csv')\n",
    "df_treaty_subjects=pd.read_csv('IEA_data/subject_rel.csv')\n",
    "df_parties_total=pd.read_csv(\"IEA_data/parties.csv\",sep=\",\")\n",
    "\n",
    "list_TypeofDates=['date_entry_into_force','date_ratification','date_simple_sigNMture','date_definite_sigNMture','date_withdrawal','date_consent_to_be_bound','date_accession_approv','date_acceptance_approv','date_provisioNMl_application','date_succession','date_reservation']\n",
    "for i in list_TypeofDates:\n",
    "    df_parties_total[i]=pd.to_datetime(df_parties_total[i],format='%d/%m/%Y')\n",
    "df_parties_1=df_parties_total[(df_parties_total['date_entry_into_force']<datetime(1947,12,31))|(df_parties_total['date_ratification']<datetime(1947,12,31))]\n",
    "\n",
    "old_treaties=set(df_parties_1['treaty_id'])\n",
    "for i in old_treaties:\n",
    "    df_parties_total=df_parties_total[df_parties_total['treaty_id']!=i]\n",
    "\n",
    "\n",
    "df_notnull=df_parties_total[df_parties_total['date_ratification'].notnull()|df_parties_total['date_entry_into_force'].notnull()]\n",
    "set_notnull=set(df_notnull['treaty_id'])\n",
    "\n",
    "treaties=list(set(list(df_notnull['treaty_id'])))\n",
    "df_treaties=pd.DataFrame(treaties,columns=['treaty_id'])\n",
    "df_parties_1=pd.merge(df_treaties,df_treaty_subjects,left_on='treaty_id',right_on='treaty_id',how='left')\n",
    "\n",
    "# get the distribution of the subjects\n",
    "subject_distribution_notnull={}\n",
    "for i in df_subjects['id']:\n",
    "    key=list(df_subjects[df_subjects['id']==i]['subject'])[0]\n",
    "    subject_distribution_notnull[key]=len(df_parties_1[df_parties_1['subject_id']==i])\n",
    "    \n",
    "subject_distribution_ordered_notnull=dict(sorted(subject_distribution_notnull.items(), key=lambda d: d[1]))"
   ]
  },
  {
   "cell_type": "code",
   "execution_count": null,
   "metadata": {},
   "outputs": [],
   "source": [
    "sub_y=list(subject_distribution_ordered_notnull.keys())\n",
    "sub_x=list(subject_distribution_ordered_notnull.values())\n",
    "num_type=np.arange(len(sub_y))\n",
    "\n",
    "x_lim=[0,180]\n",
    "\n",
    "\n",
    "figsize = 12,9\n",
    "figure, ax = plt.subplots(figsize=figsize)\n",
    "\n",
    "font1 = {'family' : 'Times New Roman',\n",
    "    'weight' : 'normal',\n",
    "    'size'   : 24,\n",
    "    }\n",
    "\n",
    "plt.barh(num_type, sub_x, color=colours[1],tick_label=sub_y,height=0.5)\n",
    "\n",
    "\n",
    "ax.set_xlim(x_lim)\n",
    "\n",
    "plt.xticks(np.arange(0, 176, step=25))\n",
    "\n",
    "plt.tick_params(labelsize=23)\n",
    "labels = ax.get_xticklabels() + ax.get_yticklabels()\n",
    "[label.set_fontname('Times New Roman') for label in labels]\n",
    "\n",
    "ax.spines['top'].set_visible(False) \n",
    "ax.spines['right'].set_visible(False) \n",
    "ax.spines['bottom'].set_visible(False) \n",
    "\n",
    "plt.tick_params(axis=\"both\", which=\"both\", bottom=False, top=False, labelbottom=True, left=False, right=False, labelleft=True) \n",
    "\n",
    "\n",
    "font2 = {'family' : 'Times New Roman',\n",
    "    'weight' : 'normal',\n",
    "    'size'   : 32,\n",
    "    }\n",
    "\n",
    "plt.xlabel('Number of treaties',font2)\n",
    "plt.ylabel(\"Subjects of treaties\",font2)\n",
    "\n",
    "plt.grid(axis='x',linestyle='--', linewidth=1.2,color=\"black\", alpha=0.3)\n",
    "\n",
    "plt.subplots_adjust(left=0.34) \n",
    "\n",
    "\n",
    "plt.savefig(\"results/TreatySubjectsOrdered_new.pdf\", bbox_inches='tight')"
   ]
  },
  {
   "cell_type": "markdown",
   "metadata": {},
   "source": [
    "### Figures 3-7： Cumulative frequency of nodes, Cumulative frequency of links, Average degree, Average strength, Cumulative density, Average weighted shortest distance, Global clustering coefficient from 1971 to 2015"
   ]
  },
  {
   "cell_type": "code",
   "execution_count": null,
   "metadata": {},
   "outputs": [],
   "source": []
  }
 ],
 "metadata": {
  "kernelspec": {
   "display_name": "Python 3",
   "language": "python",
   "name": "python3"
  },
  "language_info": {
   "codemirror_mode": {
    "name": "ipython",
    "version": 3
   },
   "file_extension": ".py",
   "mimetype": "text/x-python",
   "name": "python",
   "nbconvert_exporter": "python",
   "pygments_lexer": "ipython3",
   "version": "3.7.2"
  }
 },
 "nbformat": 4,
 "nbformat_minor": 4
}
