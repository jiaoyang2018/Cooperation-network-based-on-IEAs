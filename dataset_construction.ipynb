{
 "cells": [
  {
   "cell_type": "code",
   "execution_count": null,
   "metadata": {},
   "outputs": [],
   "source": [
    "import numpy  as np\n",
    "import pandas as pd\n",
    "import networkx as nx\n",
    "from networkx.algorithms import bipartite as bi\n",
    "import matplotlib.pyplot as plt\n",
    "from datetime import datetime\n",
    "from imp import reload \n",
    "import os\n",
    "from tqdm import tqdm\n",
    "import scipy\n",
    "\n",
    "\n",
    "import weighted_network as wn\n",
    "import dataset_construction as dc\n",
    "\n",
    "import bipcm\n",
    "\n",
    "from networkx.algorithms import community\n"
   ]
  },
  {
   "cell_type": "code",
   "execution_count": null,
   "metadata": {},
   "outputs": [],
   "source": [
    "reload(wn)"
   ]
  },
  {
   "cell_type": "markdown",
   "metadata": {},
   "source": [
    "# This notebook provides examples of codes to calcualte global and local measures of the cooperation network using the functions defined in dataset_construction.py"
   ]
  },
  {
   "cell_type": "markdown",
   "metadata": {},
   "source": [
    "# Statistically significant networks"
   ]
  },
  {
   "cell_type": "markdown",
   "metadata": {},
   "source": [
    "## Global measures"
   ]
  },
  {
   "cell_type": "code",
   "execution_count": null,
   "metadata": {},
   "outputs": [],
   "source": [
    "df_global_measure=dc.significant_global_measures_bipcm(range(1950,2016),None,[],'bottom',True,0,True)"
   ]
  },
  {
   "cell_type": "markdown",
   "metadata": {},
   "source": [
    "##### 1. Networks for different subjects can be obtained by selecting different sets of subject ids.\n",
    "##### Subjects: [6,13]--sea and fisheries; [14]--Waste and hazardous substances; [16]--Wild species and ecosystems; [4]--energy; [2]--air;  [1,3,5,7,8,9,11,12,15]--natural resources \n",
    "\n",
    "##### 2. Networks for regional and global treaties can be obtained by selecting different sets of subject ids.\n",
    "\n",
    "##### Fields: regional--1, global--2"
   ]
  },
  {
   "cell_type": "code",
   "execution_count": null,
   "metadata": {},
   "outputs": [],
   "source": [
    "df_global_measure.to_csv('results/global_measures_country_network.csv',index=False)"
   ]
  },
  {
   "cell_type": "markdown",
   "metadata": {},
   "source": [
    "## Local measures"
   ]
  },
  {
   "cell_type": "code",
   "execution_count": null,
   "metadata": {},
   "outputs": [],
   "source": [
    "G_dic=dc.significant_network_bipcm(range(1950,2016),None,[],'bottom',True,None,0,None,True)\n"
   ]
  },
  {
   "cell_type": "code",
   "execution_count": null,
   "metadata": {},
   "outputs": [],
   "source": [
    "df_local=dc.significant_local_measures_bipcm(G_dic, 'bottom')"
   ]
  },
  {
   "cell_type": "code",
   "execution_count": null,
   "metadata": {},
   "outputs": [],
   "source": [
    "df_local_sig=pd.read_csv('results/local_measures_country_network.csv')"
   ]
  },
  {
   "cell_type": "markdown",
   "metadata": {},
   "source": [
    "# UN/UN-agency treaties are excluded"
   ]
  },
  {
   "cell_type": "markdown",
   "metadata": {},
   "source": [
    "#### UN and UN agencies ids: 18,12,16,23,32,67"
   ]
  },
  {
   "cell_type": "code",
   "execution_count": null,
   "metadata": {
    "scrolled": true
   },
   "outputs": [],
   "source": [
    "df_global_measure_UN=dc.significant_global_measures_bipcm(range(1950,2016),None,[],'bottom',True,[18],True)"
   ]
  },
  {
   "cell_type": "code",
   "execution_count": null,
   "metadata": {},
   "outputs": [],
   "source": [
    "df_global_measure_UNa.to_csv('results/global_measures_country_network_UN.csv',index=False)"
   ]
  },
  {
   "cell_type": "code",
   "execution_count": null,
   "metadata": {},
   "outputs": [],
   "source": [
    "df_global_measure_UNa=dc.significant_global_measures_bipcm(range(1950,2016),None,[],'bottom',True,[18,12,16,23,32,67],True)"
   ]
  },
  {
   "cell_type": "code",
   "execution_count": null,
   "metadata": {},
   "outputs": [],
   "source": [
    "df_global_measure_UNa.to_csv('results/global_measures_countrr_network_UNa.csv',index=False)"
   ]
  }
 ],
 "metadata": {
  "kernelspec": {
   "display_name": "Python 3",
   "language": "python",
   "name": "python3"
  },
  "language_info": {
   "codemirror_mode": {
    "name": "ipython",
    "version": 3
   },
   "file_extension": ".py",
   "mimetype": "text/x-python",
   "name": "python",
   "nbconvert_exporter": "python",
   "pygments_lexer": "ipython3",
   "version": "3.7.2"
  }
 },
 "nbformat": 4,
 "nbformat_minor": 4
}
