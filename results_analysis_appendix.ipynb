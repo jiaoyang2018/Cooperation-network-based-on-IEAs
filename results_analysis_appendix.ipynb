{
 "cells": [
  {
   "cell_type": "code",
   "execution_count": 1,
   "metadata": {},
   "outputs": [],
   "source": [
    "import numpy  as np\n",
    "import pandas as pd\n",
    "import networkx as nx\n",
    "from networkx.algorithms import bipartite as bi\n",
    "import matplotlib.pyplot as plt\n",
    "from datetime import datetime\n",
    "from imp import reload \n",
    "import os\n",
    "from tqdm import tqdm\n",
    "from scipy import stats as st\n",
    "\n",
    "\n",
    "import  weighted_network as wn\n",
    "import dataset_construction as dc\n",
    "\n",
    "import seaborn as sns\n",
    "import bipcm"
   ]
  },
  {
   "cell_type": "code",
   "execution_count": 2,
   "metadata": {},
   "outputs": [
    {
     "data": {
      "image/png": "[encoded data removed]",
      "text/plain": [
       "<Figure size 216x72 with 1 Axes>"
      ]
     },
     "metadata": {
      "needs_background": "light"
     },
     "output_type": "display_data"
    }
   ],
   "source": [
    "colours=['#8D95A0','#2171b5','#DA6437']\n",
    "own=sns.color_palette(colours)\n",
    "\n",
    "sns.palplot(own)\n",
    "sns.set_palette(own)"
   ]
  },
  {
   "cell_type": "markdown",
   "metadata": {},
   "source": [
    "# This notebook provides the codes for the figures and tables in the appendix"
   ]
  },
  {
   "cell_type": "markdown",
   "metadata": {},
   "source": [
    "## Table A.1: Number of treaties with different number of subjects"
   ]
  },
  {
   "cell_type": "code",
   "execution_count": null,
   "metadata": {},
   "outputs": [],
   "source": []
  },
  {
   "cell_type": "markdown",
   "metadata": {},
   "source": [
    "## Figure G.1(a): the bi-adjacency matrix of the bipartite country-treaty network for air and atmosphere in 2015"
   ]
  },
  {
   "cell_type": "code",
   "execution_count": null,
   "metadata": {},
   "outputs": [],
   "source": [
    "df_parties_total=pd.read_csv('IEA_data/parties.csv')\n",
    "\n",
    "list_TypeofDates=['date_entry_into_force','date_ratification','date_simple_sigNMture','date_definite_sigNMture','date_withdrawal','date_consent_to_be_bound','date_accession_approv','date_acceptance_approv','date_provisioNMl_application','date_succession','date_reservation']\n",
    "for i in list_TypeofDates:\n",
    "    df_parties_total[i]=pd.to_datetime(df_parties_total[i],format='%d/%m/%Y')\n",
    "df_parties_1=df_parties_total[(df_parties_total['date_entry_into_force']<datetime(1947,12,31))|(df_parties_total['date_ratification']<datetime(1947,12,31))]\n",
    "\n",
    "old_treaties=set(df_parties_1['treaty_id'])\n",
    "for i in old_treaties:\n",
    "    df_parties_total=df_parties_total[df_parties_total['treaty_id']!=i]\n",
    "\n",
    "\n",
    "df_parties=wn.data_selection(df_parties_total,2015, None, [2])\n",
    "B=wn.bipartite_network(df_parties)\n",
    "\n",
    "nodes_treaties= {n for n,d in B.nodes(data=True) if d['bipartite']==0}\n",
    "nodes_parties= set(B) - nodes_treaties\n",
    "country_degrees,treaty_degrees=bi.degrees(B,nodes_treaties)\n",
    "\n",
    "country_sorted={k: v for k, v in sorted(dict(country_degrees).items(), key=lambda item: item[1], reverse=True)}\n",
    "treaty_sorted={k: v for k, v in sorted(dict(treaty_degrees).items(), key=lambda item: item[1], reverse=True)}\n",
    "\n",
    "bi_matrix=bi.biadjacency_matrix(B,row_order=list(country_sorted.keys()),column_order=list(treaty_sorted.keys()),weight=None)\n",
    "a_matrix=bi_matrix.A \n",
    "\n"
   ]
  },
  {
   "cell_type": "code",
   "execution_count": null,
   "metadata": {},
   "outputs": [],
   "source": [
    "figsize = 12,9\n",
    "figure, ax = plt.subplots(figsize=figsize)\n",
    "  \n",
    "\n",
    "g=sns.heatmap(a_matrix,cmap=['white',colours[1]],cbar=False,linewidths=.01, xticklabels=5, yticklabels=20, alpha = 1)\n",
    "sns.despine(top=False, right=False, left=False, bottom=False, \n",
    "        offset=None, trim=False) # Remove the bottom and right spines from plot(s).\n",
    "\n",
    "plt.tick_params(labelsize=28)\n",
    "labels = g.get_xticklabels() + g.get_yticklabels()\n",
    "[label.set_fontname('Times New Roman') for label in labels]\n",
    "\n",
    "font2 = {'family' : 'Times New Roman',\n",
    "    'weight' : 'normal',\n",
    "    'size'   : 36,\n",
    "    }\n",
    "\n",
    "plt.xlabel('Treaty',font2)\n",
    "plt.ylabel('Country',font2)\n",
    "plt.savefig('results/country_treaty_matrix_air_2015.pdf')"
   ]
  }
 ],
 "metadata": {
  "kernelspec": {
   "display_name": "Python 3",
   "language": "python",
   "name": "python3"
  },
  "language_info": {
   "codemirror_mode": {
    "name": "ipython",
    "version": 3
   },
   "file_extension": ".py",
   "mimetype": "text/x-python",
   "name": "python",
   "nbconvert_exporter": "python",
   "pygments_lexer": "ipython3",
   "version": "3.7.2"
  }
 },
 "nbformat": 4,
 "nbformat_minor": 4
}
