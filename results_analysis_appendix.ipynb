{
 "cells": [
  {
   "cell_type": "code",
   "execution_count": 1,
   "metadata": {},
   "outputs": [],
   "source": [
    "import numpy  as np\n",
    "import pandas as pd\n",
    "import networkx as nx\n",
    "from networkx.algorithms import bipartite as bi\n",
    "import matplotlib.pyplot as plt\n",
    "from datetime import datetime\n",
    "from imp import reload \n",
    "import os\n",
    "from tqdm import tqdm\n",
    "from scipy import stats as st\n",
    "\n",
    "\n",
    "import  weighted_network as wn\n",
    "import dataset_construction as dc\n",
    "\n",
    "import seaborn as sns\n",
    "import bipcm"
   ]
  },
  {
   "cell_type": "code",
   "execution_count": 2,
   "metadata": {},
   "outputs": [
    {
     "data": {
      "image/png": "[encoded data removed]",
      "text/plain": [
       "<Figure size 216x72 with 1 Axes>"
      ]
     },
     "metadata": {
      "needs_background": "light"
     },
     "output_type": "display_data"
    }
   ],
   "source": [
    "colours=['#8D95A0','#2171b5','#DA6437']\n",
    "own=sns.color_palette(colours)\n",
    "\n",
    "sns.palplot(own)\n",
    "sns.set_palette(own)"
   ]
  },
  {
   "cell_type": "markdown",
   "metadata": {},
   "source": [
    "# This notebook provides the codes for the figures and tables in the appendix"
   ]
  },
  {
   "cell_type": "markdown",
   "metadata": {},
   "source": [
    "## Table A.1: Number of treaties with different number of subjects"
   ]
  },
  {
   "cell_type": "code",
   "execution_count": null,
   "metadata": {},
   "outputs": [],
   "source": []
  },
  {
   "cell_type": "markdown",
   "metadata": {},
   "source": [
    "## Table A.2: Number of IEAs in the UN and UN agencies"
   ]
  },
  {
   "cell_type": "code",
   "execution_count": null,
   "metadata": {},
   "outputs": [],
   "source": []
  },
  {
   "cell_type": "markdown",
   "metadata": {},
   "source": [
    "## Figure B.1(a）: Number of countries per treaty and Figure B.2(a): Number of treaties per country"
   ]
  },
  {
   "cell_type": "code",
   "execution_count": null,
   "metadata": {},
   "outputs": [],
   "source": [
    "def plot_two(x1,y1,x2,y2,x3,y3,x_lim,y_lim,x_label,y_label,file_name):\n",
    "   \n",
    "    figsize = 12,9\n",
    "    figure, ax = plt.subplots(figsize=figsize)\n",
    "\n",
    "    A,=plt.plot(x1,y1,color='#2171b5',label='All treaties',linewidth=4)\n",
    "    B,=plt.plot(x2,y2,c='#8D95A0',label='Excluding UN treaties',linewidth=4, linestyle='--')\n",
    "    C,=plt.plot(x3,y3,c='#8D95A0',label='Excluding UN & UN agency treaties',linewidth=4, linestyle=':')\n",
    "\n",
    "   \n",
    "    font1 = {'family' : 'Times New Roman',\n",
    "    'weight' : 'normal',\n",
    "    'size'   : 24,\n",
    "    }\n",
    "    legend = plt.legend(handles=[A,B,C],prop=font1,loc='upper left',facecolor=None )\n",
    "    legend.get_frame().set_linewidth(0.0)\n",
    "\n",
    "    ax.spines['top'].set_visible(False) \n",
    "    ax.spines['right'].set_visible(False) \n",
    "    ax.spines['left'].set_visible(False) \n",
    "    \n",
    "    # Ensure that the axis ticks only show up on the bottom and left of the plot.    \n",
    "    # Ticks on the right and top of the plot are generally unnecessary chartjunk.   \n",
    "    ax.get_xaxis().tick_bottom()    \n",
    "    ax.get_yaxis().tick_left() \n",
    "    \n",
    "    ax.set_xlim(x_lim)\n",
    "    ax.set_ylim(y_lim)\n",
    "    # plt.tick_params(labelsize=23)\n",
    "    labels = ax.get_xticklabels() + ax.get_yticklabels()\n",
    "    [label.set_fontname('Times New Roman') for label in labels]\n",
    "    \n",
    "    \n",
    "    plt.yticks(fontsize=25)    \n",
    "    plt.xticks(fontsize=25)  \n",
    "    \n",
    "    plt.grid(axis='y',linestyle=':')\n",
    "        \n",
    "    # Remove the tick marks; they are unnecessary with the tick lines we just plotted.    \n",
    "    plt.tick_params(axis=\"both\", which=\"both\", bottom=False, top=False,    \n",
    "                labelbottom=True, left=False, right=False, labelleft=True) \n",
    "    \n",
    "\n",
    "    font2 = {'family' : 'Times New Roman',\n",
    "    'weight' : 'normal',\n",
    "    'size'   : 32,\n",
    "    }\n",
    "    plt.xlabel(x_label,font2)\n",
    "    plt.ylabel(y_label,font2)\n",
    "    \n",
    "    file_name_1='significant_country_network/RobustTest/UN/'+file_name+'.pdf'\n",
    "    plt.savefig(file_name_1)"
   ]
  },
  {
   "cell_type": "code",
   "execution_count": null,
   "metadata": {},
   "outputs": [],
   "source": [
    "df_global_country_agency=pd.read_csv('significant_country_network/RobustTest/UN/bipartite_global_country_UNagency.csv')\n",
    "df_global_country_UN=pd.read_csv('bipartite_network/total_treaties/global_measure_country_UN.csv')\n",
    "df_global_country=pd.read_csv('bipartite_network/total_treaties/global_measure_country.csv')\n"
   ]
  },
  {
   "cell_type": "code",
   "execution_count": null,
   "metadata": {},
   "outputs": [],
   "source": [
    "df_global_treaty_agency=pd.read_csv('significant_country_network/RobustTest/UN/bipartite_global_treaty_UNagency.csv')\n",
    "df_global_treaty_UN=pd.read_csv('bipartite_network/total_treaties/global_measure_treaty_UN.csv')\n",
    "df_global_treaty=pd.read_csv('bipartite_network/total_treaties/global_measure_treaty.csv')\n"
   ]
  },
  {
   "cell_type": "code",
   "execution_count": null,
   "metadata": {},
   "outputs": [],
   "source": [
    "plot_two(df_global_treaty['year'],df_global_treaty['average_degree'],df_global_treaty_UN['year'],df_global_treaty_UN['average_degree'],\n",
    "         df_global_treaty_agency['year'],df_global_treaty_agency['average_degree'],[1945,2020],[0,35],\n",
    "         'Year','Average number of treaties per country','AverageTreatyDegree_Bi')"
   ]
  },
  {
   "cell_type": "markdown",
   "metadata": {},
   "source": [
    "## Figure B.1(b）: Number of countries per treaty and Figure B.2(b): Number of treaties per country"
   ]
  },
  {
   "cell_type": "code",
   "execution_count": null,
   "metadata": {},
   "outputs": [],
   "source": [
    "def plot_frequency(df_input,year_list,start,end, interval,y_lim,x_label,y_label,file_name):\n",
    "\n",
    "    figsize = 12,9\n",
    "    \n",
    "    colours=['#8D95A0','#E4B345','#2171b5','#DA6437']\n",
    "    df_years=pd.DataFrame()\n",
    "    \n",
    "    for year in year_list:\n",
    "\n",
    "        df = df_input[df_input['year']==year]\n",
    "        df['binned_d'] = pd.cut(df['degree'],np.arange(start,end,interval))\n",
    "        to_plot = df[['year','binned_d']].copy()\n",
    "\n",
    "        df_years[year]=list(to_plot.groupby('binned_d').size())\n",
    "        \n",
    "    ax=df_years.plot.bar(width=1.4,figsize=figsize,color=colours,rot=0, grid=False)\n",
    "        \n",
    "    x_lim=[0,int(end/interval)]\n",
    "    \n",
    "    internal=20\n",
    "    for y in np.arange(y_lim[0]+internal, y_lim[1]+internal, internal):   \n",
    "        plt.plot(range(x_lim[0], x_lim[1]), [y] * len(range(x_lim[0], x_lim[1])), \"--\", lw=1.2, color=\"black\", alpha=0.3)  \n",
    "\n",
    "    font1 = {'family' : 'Times New Roman',\n",
    "    'weight' : 'normal',\n",
    "    'size'   : 24,\n",
    "    }\n",
    "\n",
    "    ax.spines['top'].set_visible(False) \n",
    "    ax.spines['right'].set_visible(False)\n",
    "    ax.spines['left'].set_visible(False) \n",
    "\n",
    "    ax.get_xaxis().tick_bottom()    \n",
    "    ax.get_yaxis().tick_left() \n",
    "\n",
    "    \n",
    "    ax.set_ylim(y_lim)\n",
    "    # plt.tick_params(labelsize=23)\n",
    "    labels = ax.get_xticklabels() + ax.get_yticklabels()\n",
    "    [label.set_fontname('Times New Roman') for label in labels]\n",
    "\n",
    "    \n",
    "    # Remove the tick marks; they are unnecessary with the tick lines we just plotted.    \n",
    "    plt.tick_params(axis=\"both\", which=\"both\", bottom=False, top=False,    \n",
    "                labelbottom=True, left=False, right=False, labelleft=True) \n",
    "\n",
    "\n",
    "    font2 = {'family' : 'Times New Roman',\n",
    "    'weight' : 'normal',\n",
    "    'size'   : 32,\n",
    "    }\n",
    "     \n",
    "    plt.yticks(fontsize=23)\n",
    "    \n",
    "    num=4\n",
    "    plt.xticks(ticks=np.arange(0,end/interval+num,num),labels=np.arange(0,end+num*interval,num*interval),fontsize=20)\n",
    "    \n",
    "    legend = plt.legend(prop=font1,loc='upper right',facecolor=None)\n",
    "    legend.get_frame().set_linewidth(0.0)\n",
    "    \n",
    "    plt.xlabel(x_label,font2)\n",
    "    plt.ylabel(y_label,font2)\n",
    "    \n",
    "    file_output='significant_country_network/weighted/1980/'+file_name+'.pdf'\n",
    "    plt.savefig(file_output)"
   ]
  },
  {
   "cell_type": "code",
   "execution_count": null,
   "metadata": {},
   "outputs": [],
   "source": [
    "plot_frequency(df_local_measure,[1950,1970,1990,2015],0,195,5,[0,180],'Number of countries per treaty','Number of treaty','TreatyDegree_Bar')\n"
   ]
  },
  {
   "cell_type": "markdown",
   "metadata": {},
   "source": [
    "## Figure G.1(a): The bi-adjacency matrix of the bipartite country-treaty network for air and atmosphere in 2015"
   ]
  },
  {
   "cell_type": "code",
   "execution_count": null,
   "metadata": {},
   "outputs": [],
   "source": [
    "df_parties_total=pd.read_csv('IEA_data/parties.csv')\n",
    "\n",
    "list_TypeofDates=['date_entry_into_force','date_ratification','date_simple_sigNMture','date_definite_sigNMture','date_withdrawal','date_consent_to_be_bound','date_accession_approv','date_acceptance_approv','date_provisioNMl_application','date_succession','date_reservation']\n",
    "for i in list_TypeofDates:\n",
    "    df_parties_total[i]=pd.to_datetime(df_parties_total[i],format='%d/%m/%Y')\n",
    "df_parties_1=df_parties_total[(df_parties_total['date_entry_into_force']<datetime(1947,12,31))|(df_parties_total['date_ratification']<datetime(1947,12,31))]\n",
    "\n",
    "old_treaties=set(df_parties_1['treaty_id'])\n",
    "for i in old_treaties:\n",
    "    df_parties_total=df_parties_total[df_parties_total['treaty_id']!=i]\n",
    "\n",
    "\n",
    "df_parties=wn.data_selection(df_parties_total,2015, None, [2])\n",
    "B=wn.bipartite_network(df_parties)\n",
    "\n",
    "nodes_treaties= {n for n,d in B.nodes(data=True) if d['bipartite']==0}\n",
    "nodes_parties= set(B) - nodes_treaties\n",
    "country_degrees,treaty_degrees=bi.degrees(B,nodes_treaties)\n",
    "\n",
    "country_sorted={k: v for k, v in sorted(dict(country_degrees).items(), key=lambda item: item[1], reverse=True)}\n",
    "treaty_sorted={k: v for k, v in sorted(dict(treaty_degrees).items(), key=lambda item: item[1], reverse=True)}\n",
    "\n",
    "bi_matrix=bi.biadjacency_matrix(B,row_order=list(country_sorted.keys()),column_order=list(treaty_sorted.keys()),weight=None)\n",
    "a_matrix=bi_matrix.A \n",
    "\n"
   ]
  },
  {
   "cell_type": "code",
   "execution_count": null,
   "metadata": {},
   "outputs": [],
   "source": [
    "figsize = 12,9\n",
    "figure, ax = plt.subplots(figsize=figsize)\n",
    "  \n",
    "\n",
    "g=sns.heatmap(a_matrix,cmap=['white',colours[1]],cbar=False,linewidths=.01, xticklabels=5, yticklabels=20, alpha = 1)\n",
    "sns.despine(top=False, right=False, left=False, bottom=False, \n",
    "        offset=None, trim=False) # Remove the bottom and right spines from plot(s).\n",
    "\n",
    "plt.tick_params(labelsize=28)\n",
    "labels = g.get_xticklabels() + g.get_yticklabels()\n",
    "[label.set_fontname('Times New Roman') for label in labels]\n",
    "\n",
    "font2 = {'family' : 'Times New Roman',\n",
    "    'weight' : 'normal',\n",
    "    'size'   : 36,\n",
    "    }\n",
    "\n",
    "plt.xlabel('Treaty',font2)\n",
    "plt.ylabel('Country',font2)\n",
    "plt.savefig('results/country_treaty_matrix_air_2015.pdf')"
   ]
  }
 ],
 "metadata": {
  "kernelspec": {
   "display_name": "Python 3",
   "language": "python",
   "name": "python3"
  },
  "language_info": {
   "codemirror_mode": {
    "name": "ipython",
    "version": 3
   },
   "file_extension": ".py",
   "mimetype": "text/x-python",
   "name": "python",
   "nbconvert_exporter": "python",
   "pygments_lexer": "ipython3",
   "version": "3.7.2"
  }
 },
 "nbformat": 4,
 "nbformat_minor": 4
}
