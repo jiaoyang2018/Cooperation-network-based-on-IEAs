{
 "cells": [
  {
   "cell_type": "code",
   "execution_count": 2,
   "metadata": {},
   "outputs": [],
   "source": [
    "import numpy  as np\n",
    "import pandas as pd\n",
    "import networkx as nx\n",
    "from networkx.algorithms import bipartite as bi\n",
    "import matplotlib.pyplot as plt\n",
    "from datetime import datetime\n",
    "from imp import reload \n",
    "import os\n",
    "from tqdm import tqdm\n",
    "from scipy import stats as st\n",
    "\n",
    "\n",
    "import  weighted_network as wn\n",
    "import dataset_construction as dc\n",
    "\n",
    "import seaborn as sns\n",
    "import bipcm"
   ]
  },
  {
   "cell_type": "code",
   "execution_count": 2,
   "metadata": {},
   "outputs": [
    {
     "data": {
      "image/png": "[encoded data removed]",
      "text/plain": [
       "<Figure size 216x72 with 1 Axes>"
      ]
     },
     "metadata": {
      "needs_background": "light"
     },
     "output_type": "display_data"
    }
   ],
   "source": [
    "colours=['#8D95A0','#2171b5','#DA6437']\n",
    "own=sns.color_palette(colours)\n",
    "\n",
    "sns.palplot(own)\n",
    "sns.set_palette(own)"
   ]
  },
  {
   "cell_type": "markdown",
   "metadata": {},
   "source": [
    "# This notebook provides the codes for the figures and tables in the appendix"
   ]
  },
  {
   "cell_type": "markdown",
   "metadata": {},
   "source": [
    "## Table A.1: Number of treaties with different number of subjects"
   ]
  },
  {
   "cell_type": "code",
   "execution_count": null,
   "metadata": {},
   "outputs": [],
   "source": []
  },
  {
   "cell_type": "markdown",
   "metadata": {},
   "source": [
    "## Table A.2: Number of IEAs in the UN and UN agencies"
   ]
  },
  {
   "cell_type": "code",
   "execution_count": 3,
   "metadata": {},
   "outputs": [
    {
     "ename": "FileNotFoundError",
     "evalue": "[Errno 2] No such file or directory: 'IEA_data/depository_rel.csv'",
     "output_type": "error",
     "traceback": [
      "\u001b[0;31m---------------------------------------------------------------------------\u001b[0m",
      "\u001b[0;31mFileNotFoundError\u001b[0m                         Traceback (most recent call last)",
      "\u001b[0;32m<ipython-input-3-d4acbc89f14b>\u001b[0m in \u001b[0;36m<module>\u001b[0;34m()\u001b[0m\n\u001b[1;32m      1\u001b[0m \u001b[0;31m#### UN and UN agencies ids: 18,12,16,23,32,67\u001b[0m\u001b[0;34m\u001b[0m\u001b[0;34m\u001b[0m\u001b[0;34m\u001b[0m\u001b[0m\n\u001b[1;32m      2\u001b[0m \u001b[0;34m\u001b[0m\u001b[0m\n\u001b[0;32m----> 3\u001b[0;31m \u001b[0mdf_depo\u001b[0m\u001b[0;34m=\u001b[0m\u001b[0mpd\u001b[0m\u001b[0;34m.\u001b[0m\u001b[0mread_csv\u001b[0m\u001b[0;34m(\u001b[0m\u001b[0;34m'IEA_data/depository_rel.csv'\u001b[0m\u001b[0;34m)\u001b[0m\u001b[0;34m\u001b[0m\u001b[0;34m\u001b[0m\u001b[0m\n\u001b[0m",
      "\u001b[0;32m/Applications/anaconda3/lib/python3.7/site-packages/pandas/io/parsers.py\u001b[0m in \u001b[0;36mread_csv\u001b[0;34m(filepath_or_buffer, sep, delimiter, header, names, index_col, usecols, squeeze, prefix, mangle_dupe_cols, dtype, engine, converters, true_values, false_values, skipinitialspace, skiprows, skipfooter, nrows, na_values, keep_default_na, na_filter, verbose, skip_blank_lines, parse_dates, infer_datetime_format, keep_date_col, date_parser, dayfirst, cache_dates, iterator, chunksize, compression, thousands, decimal, lineterminator, quotechar, quoting, doublequote, escapechar, comment, encoding, dialect, error_bad_lines, warn_bad_lines, delim_whitespace, low_memory, memory_map, float_precision)\u001b[0m\n\u001b[1;32m    686\u001b[0m     )\n\u001b[1;32m    687\u001b[0m \u001b[0;34m\u001b[0m\u001b[0m\n\u001b[0;32m--> 688\u001b[0;31m     \u001b[0;32mreturn\u001b[0m \u001b[0m_read\u001b[0m\u001b[0;34m(\u001b[0m\u001b[0mfilepath_or_buffer\u001b[0m\u001b[0;34m,\u001b[0m \u001b[0mkwds\u001b[0m\u001b[0;34m)\u001b[0m\u001b[0;34m\u001b[0m\u001b[0;34m\u001b[0m\u001b[0m\n\u001b[0m\u001b[1;32m    689\u001b[0m \u001b[0;34m\u001b[0m\u001b[0m\n\u001b[1;32m    690\u001b[0m \u001b[0;34m\u001b[0m\u001b[0m\n",
      "\u001b[0;32m/Applications/anaconda3/lib/python3.7/site-packages/pandas/io/parsers.py\u001b[0m in \u001b[0;36m_read\u001b[0;34m(filepath_or_buffer, kwds)\u001b[0m\n\u001b[1;32m    452\u001b[0m \u001b[0;34m\u001b[0m\u001b[0m\n\u001b[1;32m    453\u001b[0m     \u001b[0;31m# Create the parser.\u001b[0m\u001b[0;34m\u001b[0m\u001b[0;34m\u001b[0m\u001b[0;34m\u001b[0m\u001b[0m\n\u001b[0;32m--> 454\u001b[0;31m     \u001b[0mparser\u001b[0m \u001b[0;34m=\u001b[0m \u001b[0mTextFileReader\u001b[0m\u001b[0;34m(\u001b[0m\u001b[0mfp_or_buf\u001b[0m\u001b[0;34m,\u001b[0m \u001b[0;34m**\u001b[0m\u001b[0mkwds\u001b[0m\u001b[0;34m)\u001b[0m\u001b[0;34m\u001b[0m\u001b[0;34m\u001b[0m\u001b[0m\n\u001b[0m\u001b[1;32m    455\u001b[0m \u001b[0;34m\u001b[0m\u001b[0m\n\u001b[1;32m    456\u001b[0m     \u001b[0;32mif\u001b[0m \u001b[0mchunksize\u001b[0m \u001b[0;32mor\u001b[0m \u001b[0miterator\u001b[0m\u001b[0;34m:\u001b[0m\u001b[0;34m\u001b[0m\u001b[0;34m\u001b[0m\u001b[0m\n",
      "\u001b[0;32m/Applications/anaconda3/lib/python3.7/site-packages/pandas/io/parsers.py\u001b[0m in \u001b[0;36m__init__\u001b[0;34m(self, f, engine, **kwds)\u001b[0m\n\u001b[1;32m    946\u001b[0m             \u001b[0mself\u001b[0m\u001b[0;34m.\u001b[0m\u001b[0moptions\u001b[0m\u001b[0;34m[\u001b[0m\u001b[0;34m\"has_index_names\"\u001b[0m\u001b[0;34m]\u001b[0m \u001b[0;34m=\u001b[0m \u001b[0mkwds\u001b[0m\u001b[0;34m[\u001b[0m\u001b[0;34m\"has_index_names\"\u001b[0m\u001b[0;34m]\u001b[0m\u001b[0;34m\u001b[0m\u001b[0;34m\u001b[0m\u001b[0m\n\u001b[1;32m    947\u001b[0m \u001b[0;34m\u001b[0m\u001b[0m\n\u001b[0;32m--> 948\u001b[0;31m         \u001b[0mself\u001b[0m\u001b[0;34m.\u001b[0m\u001b[0m_make_engine\u001b[0m\u001b[0;34m(\u001b[0m\u001b[0mself\u001b[0m\u001b[0;34m.\u001b[0m\u001b[0mengine\u001b[0m\u001b[0;34m)\u001b[0m\u001b[0;34m\u001b[0m\u001b[0;34m\u001b[0m\u001b[0m\n\u001b[0m\u001b[1;32m    949\u001b[0m \u001b[0;34m\u001b[0m\u001b[0m\n\u001b[1;32m    950\u001b[0m     \u001b[0;32mdef\u001b[0m \u001b[0mclose\u001b[0m\u001b[0;34m(\u001b[0m\u001b[0mself\u001b[0m\u001b[0;34m)\u001b[0m\u001b[0;34m:\u001b[0m\u001b[0;34m\u001b[0m\u001b[0;34m\u001b[0m\u001b[0m\n",
      "\u001b[0;32m/Applications/anaconda3/lib/python3.7/site-packages/pandas/io/parsers.py\u001b[0m in \u001b[0;36m_make_engine\u001b[0;34m(self, engine)\u001b[0m\n\u001b[1;32m   1178\u001b[0m     \u001b[0;32mdef\u001b[0m \u001b[0m_make_engine\u001b[0m\u001b[0;34m(\u001b[0m\u001b[0mself\u001b[0m\u001b[0;34m,\u001b[0m \u001b[0mengine\u001b[0m\u001b[0;34m=\u001b[0m\u001b[0;34m\"c\"\u001b[0m\u001b[0;34m)\u001b[0m\u001b[0;34m:\u001b[0m\u001b[0;34m\u001b[0m\u001b[0;34m\u001b[0m\u001b[0m\n\u001b[1;32m   1179\u001b[0m         \u001b[0;32mif\u001b[0m \u001b[0mengine\u001b[0m \u001b[0;34m==\u001b[0m \u001b[0;34m\"c\"\u001b[0m\u001b[0;34m:\u001b[0m\u001b[0;34m\u001b[0m\u001b[0;34m\u001b[0m\u001b[0m\n\u001b[0;32m-> 1180\u001b[0;31m             \u001b[0mself\u001b[0m\u001b[0;34m.\u001b[0m\u001b[0m_engine\u001b[0m \u001b[0;34m=\u001b[0m \u001b[0mCParserWrapper\u001b[0m\u001b[0;34m(\u001b[0m\u001b[0mself\u001b[0m\u001b[0;34m.\u001b[0m\u001b[0mf\u001b[0m\u001b[0;34m,\u001b[0m \u001b[0;34m**\u001b[0m\u001b[0mself\u001b[0m\u001b[0;34m.\u001b[0m\u001b[0moptions\u001b[0m\u001b[0;34m)\u001b[0m\u001b[0;34m\u001b[0m\u001b[0;34m\u001b[0m\u001b[0m\n\u001b[0m\u001b[1;32m   1181\u001b[0m         \u001b[0;32melse\u001b[0m\u001b[0;34m:\u001b[0m\u001b[0;34m\u001b[0m\u001b[0;34m\u001b[0m\u001b[0m\n\u001b[1;32m   1182\u001b[0m             \u001b[0;32mif\u001b[0m \u001b[0mengine\u001b[0m \u001b[0;34m==\u001b[0m \u001b[0;34m\"python\"\u001b[0m\u001b[0;34m:\u001b[0m\u001b[0;34m\u001b[0m\u001b[0;34m\u001b[0m\u001b[0m\n",
      "\u001b[0;32m/Applications/anaconda3/lib/python3.7/site-packages/pandas/io/parsers.py\u001b[0m in \u001b[0;36m__init__\u001b[0;34m(self, src, **kwds)\u001b[0m\n\u001b[1;32m   2008\u001b[0m         \u001b[0mkwds\u001b[0m\u001b[0;34m[\u001b[0m\u001b[0;34m\"usecols\"\u001b[0m\u001b[0;34m]\u001b[0m \u001b[0;34m=\u001b[0m \u001b[0mself\u001b[0m\u001b[0;34m.\u001b[0m\u001b[0musecols\u001b[0m\u001b[0;34m\u001b[0m\u001b[0;34m\u001b[0m\u001b[0m\n\u001b[1;32m   2009\u001b[0m \u001b[0;34m\u001b[0m\u001b[0m\n\u001b[0;32m-> 2010\u001b[0;31m         \u001b[0mself\u001b[0m\u001b[0;34m.\u001b[0m\u001b[0m_reader\u001b[0m \u001b[0;34m=\u001b[0m \u001b[0mparsers\u001b[0m\u001b[0;34m.\u001b[0m\u001b[0mTextReader\u001b[0m\u001b[0;34m(\u001b[0m\u001b[0msrc\u001b[0m\u001b[0;34m,\u001b[0m \u001b[0;34m**\u001b[0m\u001b[0mkwds\u001b[0m\u001b[0;34m)\u001b[0m\u001b[0;34m\u001b[0m\u001b[0;34m\u001b[0m\u001b[0m\n\u001b[0m\u001b[1;32m   2011\u001b[0m         \u001b[0mself\u001b[0m\u001b[0;34m.\u001b[0m\u001b[0munnamed_cols\u001b[0m \u001b[0;34m=\u001b[0m \u001b[0mself\u001b[0m\u001b[0;34m.\u001b[0m\u001b[0m_reader\u001b[0m\u001b[0;34m.\u001b[0m\u001b[0munnamed_cols\u001b[0m\u001b[0;34m\u001b[0m\u001b[0;34m\u001b[0m\u001b[0m\n\u001b[1;32m   2012\u001b[0m \u001b[0;34m\u001b[0m\u001b[0m\n",
      "\u001b[0;32mpandas/_libs/parsers.pyx\u001b[0m in \u001b[0;36mpandas._libs.parsers.TextReader.__cinit__\u001b[0;34m()\u001b[0m\n",
      "\u001b[0;32mpandas/_libs/parsers.pyx\u001b[0m in \u001b[0;36mpandas._libs.parsers.TextReader._setup_parser_source\u001b[0;34m()\u001b[0m\n",
      "\u001b[0;31mFileNotFoundError\u001b[0m: [Errno 2] No such file or directory: 'IEA_data/depository_rel.csv'"
     ]
    }
   ],
   "source": [
    "#### UN and UN agencies ids: 18,12,16,23,32,67\n",
    "\n",
    "df_depo=pd.read_csv('IEA_data/depository_rel.csv')\n",
    "\n"
   ]
  },
  {
   "cell_type": "markdown",
   "metadata": {},
   "source": [
    "## Figure B.1(a）: Number of countries per treaty and Figure B.2(a): Number of treaties per country"
   ]
  },
  {
   "cell_type": "code",
   "execution_count": null,
   "metadata": {},
   "outputs": [],
   "source": [
    "def plot_two(x1,y1,x2,y2,x3,y3,x_lim,y_lim,x_label,y_label,file_name):\n",
    "   \n",
    "    figsize = 12,9\n",
    "    figure, ax = plt.subplots(figsize=figsize)\n",
    "\n",
    "    A,=plt.plot(x1,y1,color='#2171b5',label='All treaties',linewidth=4)\n",
    "    B,=plt.plot(x2,y2,c='#8D95A0',label='Excluding UN treaties',linewidth=4, linestyle='--')\n",
    "    C,=plt.plot(x3,y3,c='#8D95A0',label='Excluding UN & UN agency treaties',linewidth=4, linestyle=':')\n",
    "\n",
    "   \n",
    "    font1 = {'family' : 'Times New Roman',\n",
    "    'weight' : 'normal',\n",
    "    'size'   : 24,\n",
    "    }\n",
    "    legend = plt.legend(handles=[A,B,C],prop=font1,loc='upper left',facecolor=None )\n",
    "    legend.get_frame().set_linewidth(0.0)\n",
    "\n",
    "    ax.spines['top'].set_visible(False) \n",
    "    ax.spines['right'].set_visible(False) \n",
    "    ax.spines['left'].set_visible(False) \n",
    "    \n",
    "    # Ensure that the axis ticks only show up on the bottom and left of the plot.    \n",
    "    # Ticks on the right and top of the plot are generally unnecessary chartjunk.   \n",
    "    ax.get_xaxis().tick_bottom()    \n",
    "    ax.get_yaxis().tick_left() \n",
    "    \n",
    "    ax.set_xlim(x_lim)\n",
    "    ax.set_ylim(y_lim)\n",
    "    # plt.tick_params(labelsize=23)\n",
    "    labels = ax.get_xticklabels() + ax.get_yticklabels()\n",
    "    [label.set_fontname('Times New Roman') for label in labels]\n",
    "    \n",
    "    \n",
    "    plt.yticks(fontsize=25)    \n",
    "    plt.xticks(fontsize=25)  \n",
    "    \n",
    "    plt.grid(axis='y',linestyle=':')\n",
    "        \n",
    "    # Remove the tick marks; they are unnecessary with the tick lines we just plotted.    \n",
    "    plt.tick_params(axis=\"both\", which=\"both\", bottom=False, top=False,    \n",
    "                labelbottom=True, left=False, right=False, labelleft=True) \n",
    "    \n",
    "\n",
    "    font2 = {'family' : 'Times New Roman',\n",
    "    'weight' : 'normal',\n",
    "    'size'   : 32,\n",
    "    }\n",
    "    plt.xlabel(x_label,font2)\n",
    "    plt.ylabel(y_label,font2)\n",
    "    \n",
    "    file_name_1='significant_country_network/RobustTest/UN/'+file_name+'.pdf'\n",
    "    plt.savefig(file_name_1)"
   ]
  },
  {
   "cell_type": "code",
   "execution_count": null,
   "metadata": {},
   "outputs": [],
   "source": [
    "df_global_country_agency=pd.read_csv('significant_country_network/RobustTest/UN/bipartite_global_country_UNagency.csv')\n",
    "df_global_country_UN=pd.read_csv('bipartite_network/total_treaties/global_measure_country_UN.csv')\n",
    "df_global_country=pd.read_csv('bipartite_network/total_treaties/global_measure_country.csv')\n"
   ]
  },
  {
   "cell_type": "code",
   "execution_count": null,
   "metadata": {},
   "outputs": [],
   "source": [
    "df_global_treaty_agency=pd.read_csv('significant_country_network/RobustTest/UN/bipartite_global_treaty_UNagency.csv')\n",
    "df_global_treaty_UN=pd.read_csv('bipartite_network/total_treaties/global_measure_treaty_UN.csv')\n",
    "df_global_treaty=pd.read_csv('bipartite_network/total_treaties/global_measure_treaty.csv')\n"
   ]
  },
  {
   "cell_type": "code",
   "execution_count": null,
   "metadata": {},
   "outputs": [],
   "source": [
    "plot_two(df_global_treaty['year'],df_global_treaty['average_degree'],df_global_treaty_UN['year'],df_global_treaty_UN['average_degree'],\n",
    "         df_global_treaty_agency['year'],df_global_treaty_agency['average_degree'],[1945,2020],[0,35],\n",
    "         'Year','Average number of treaties per country','AverageTreatyDegree_Bi')"
   ]
  },
  {
   "cell_type": "markdown",
   "metadata": {},
   "source": [
    "## Figure B.1(b）: Number of countries per treaty and Figure B.2(b): Number of treaties per country"
   ]
  },
  {
   "cell_type": "code",
   "execution_count": null,
   "metadata": {},
   "outputs": [],
   "source": [
    "def plot_frequency(df_input,year_list,start,end, interval,y_lim,x_label,y_label,file_name):\n",
    "\n",
    "    figsize = 12,9\n",
    "    \n",
    "    colours=['#8D95A0','#E4B345','#2171b5','#DA6437']\n",
    "    df_years=pd.DataFrame()\n",
    "    \n",
    "    for year in year_list:\n",
    "\n",
    "        df = df_input[df_input['year']==year]\n",
    "        df['binned_d'] = pd.cut(df['degree'],np.arange(start,end,interval))\n",
    "        to_plot = df[['year','binned_d']].copy()\n",
    "\n",
    "        df_years[year]=list(to_plot.groupby('binned_d').size())\n",
    "        \n",
    "    ax=df_years.plot.bar(width=1.4,figsize=figsize,color=colours,rot=0, grid=False)\n",
    "        \n",
    "    x_lim=[0,int(end/interval)]\n",
    "    \n",
    "    internal=20\n",
    "    for y in np.arange(y_lim[0]+internal, y_lim[1]+internal, internal):   \n",
    "        plt.plot(range(x_lim[0], x_lim[1]), [y] * len(range(x_lim[0], x_lim[1])), \"--\", lw=1.2, color=\"black\", alpha=0.3)  \n",
    "\n",
    "    font1 = {'family' : 'Times New Roman',\n",
    "    'weight' : 'normal',\n",
    "    'size'   : 24,\n",
    "    }\n",
    "\n",
    "    ax.spines['top'].set_visible(False) \n",
    "    ax.spines['right'].set_visible(False)\n",
    "    ax.spines['left'].set_visible(False) \n",
    "\n",
    "    ax.get_xaxis().tick_bottom()    \n",
    "    ax.get_yaxis().tick_left() \n",
    "\n",
    "    \n",
    "    ax.set_ylim(y_lim)\n",
    "    # plt.tick_params(labelsize=23)\n",
    "    labels = ax.get_xticklabels() + ax.get_yticklabels()\n",
    "    [label.set_fontname('Times New Roman') for label in labels]\n",
    "\n",
    "    \n",
    "    # Remove the tick marks; they are unnecessary with the tick lines we just plotted.    \n",
    "    plt.tick_params(axis=\"both\", which=\"both\", bottom=False, top=False,    \n",
    "                labelbottom=True, left=False, right=False, labelleft=True) \n",
    "\n",
    "\n",
    "    font2 = {'family' : 'Times New Roman',\n",
    "    'weight' : 'normal',\n",
    "    'size'   : 32,\n",
    "    }\n",
    "     \n",
    "    plt.yticks(fontsize=23)\n",
    "    \n",
    "    num=4\n",
    "    plt.xticks(ticks=np.arange(0,end/interval+num,num),labels=np.arange(0,end+num*interval,num*interval),fontsize=20)\n",
    "    \n",
    "    legend = plt.legend(prop=font1,loc='upper right',facecolor=None)\n",
    "    legend.get_frame().set_linewidth(0.0)\n",
    "    \n",
    "    plt.xlabel(x_label,font2)\n",
    "    plt.ylabel(y_label,font2)\n",
    "    \n",
    "    file_output='significant_country_network/weighted/1980/'+file_name+'.pdf'\n",
    "    plt.savefig(file_output)"
   ]
  },
  {
   "cell_type": "code",
   "execution_count": null,
   "metadata": {},
   "outputs": [],
   "source": [
    "plot_frequency(df_local_measure,[1950,1970,1990,2015],0,195,5,[0,180],'Number of countries per treaty','Number of treaty','TreatyDegree_Bar')\n"
   ]
  },
  {
   "cell_type": "markdown",
   "metadata": {},
   "source": [
    "## Figure G.1(a): The bi-adjacency matrix of the bipartite country-treaty network for air and atmosphere in 2015"
   ]
  },
  {
   "cell_type": "code",
   "execution_count": null,
   "metadata": {},
   "outputs": [],
   "source": [
    "df_parties_total=pd.read_csv('IEA_data/parties.csv')\n",
    "\n",
    "list_TypeofDates=['date_entry_into_force','date_ratification','date_simple_sigNMture','date_definite_sigNMture','date_withdrawal','date_consent_to_be_bound','date_accession_approv','date_acceptance_approv','date_provisioNMl_application','date_succession','date_reservation']\n",
    "for i in list_TypeofDates:\n",
    "    df_parties_total[i]=pd.to_datetime(df_parties_total[i],format='%d/%m/%Y')\n",
    "df_parties_1=df_parties_total[(df_parties_total['date_entry_into_force']<datetime(1947,12,31))|(df_parties_total['date_ratification']<datetime(1947,12,31))]\n",
    "\n",
    "old_treaties=set(df_parties_1['treaty_id'])\n",
    "for i in old_treaties:\n",
    "    df_parties_total=df_parties_total[df_parties_total['treaty_id']!=i]\n",
    "\n",
    "\n",
    "df_parties=wn.data_selection(df_parties_total,2015, None, [2])\n",
    "B=wn.bipartite_network(df_parties)\n",
    "\n",
    "nodes_treaties= {n for n,d in B.nodes(data=True) if d['bipartite']==0}\n",
    "nodes_parties= set(B) - nodes_treaties\n",
    "country_degrees,treaty_degrees=bi.degrees(B,nodes_treaties)\n",
    "\n",
    "country_sorted={k: v for k, v in sorted(dict(country_degrees).items(), key=lambda item: item[1], reverse=True)}\n",
    "treaty_sorted={k: v for k, v in sorted(dict(treaty_degrees).items(), key=lambda item: item[1], reverse=True)}\n",
    "\n",
    "bi_matrix=bi.biadjacency_matrix(B,row_order=list(country_sorted.keys()),column_order=list(treaty_sorted.keys()),weight=None)\n",
    "a_matrix=bi_matrix.A \n",
    "\n"
   ]
  },
  {
   "cell_type": "code",
   "execution_count": null,
   "metadata": {},
   "outputs": [],
   "source": [
    "figsize = 12,9\n",
    "figure, ax = plt.subplots(figsize=figsize)\n",
    "  \n",
    "\n",
    "g=sns.heatmap(a_matrix,cmap=['white',colours[1]],cbar=False,linewidths=.01, xticklabels=5, yticklabels=20, alpha = 1)\n",
    "sns.despine(top=False, right=False, left=False, bottom=False, \n",
    "        offset=None, trim=False) # Remove the bottom and right spines from plot(s).\n",
    "\n",
    "plt.tick_params(labelsize=28)\n",
    "labels = g.get_xticklabels() + g.get_yticklabels()\n",
    "[label.set_fontname('Times New Roman') for label in labels]\n",
    "\n",
    "font2 = {'family' : 'Times New Roman',\n",
    "    'weight' : 'normal',\n",
    "    'size'   : 36,\n",
    "    }\n",
    "\n",
    "plt.xlabel('Treaty',font2)\n",
    "plt.ylabel('Country',font2)\n",
    "plt.savefig('results/country_treaty_matrix_air_2015.pdf')"
   ]
  },
  {
   "cell_type": "markdown",
   "metadata": {},
   "source": [
    "## Figures D.1, D.2, D.4, E.1, E.2, E.3 use the same codes as Figures 3-7 in the main paper."
   ]
  },
  {
   "cell_type": "markdown",
   "metadata": {},
   "source": [
    "## Figures D.3(a): Distribution of the number of citations "
   ]
  },
  {
   "cell_type": "code",
   "execution_count": null,
   "metadata": {},
   "outputs": [],
   "source": [
    "df_cite=pd.read_csv('IEA_data/cites_treaty.csv')\n",
    "dfnc=df_cite.groupby(by='treaty_cited').count()"
   ]
  },
  {
   "cell_type": "code",
   "execution_count": null,
   "metadata": {},
   "outputs": [],
   "source": [
    "dfnc=df_cite.groupby(by='treaty_cited').count()\n",
    "sns.histplot(x='treaty_id', data=dfnc, color=colours[1],edgecolor='white')\n",
    "\n",
    "font1 = {'family' : 'Times New Roman',\n",
    "    'weight' : 'normal',\n",
    "    'size'   : 15,}\n",
    "\n",
    "plt.xlabel('Number of citations',font1)\n",
    "plt.ylabel('Number of IEAs',font1)\n",
    "\n",
    "\n",
    "file_name='results/'+'NumCite'+'.pdf'\n",
    "plt.savefig(file_name,  bbox_inches='tight')\n"
   ]
  },
  {
   "cell_type": "markdown",
   "metadata": {},
   "source": [
    "## Figure D.3(b): The number of reports for agreements reported less than 300 times"
   ]
  },
  {
   "cell_type": "code",
   "execution_count": null,
   "metadata": {},
   "outputs": [],
   "source": [
    "df_media3=pd.read_excel('FACTIVA_IEA/Treaty_List Main 3.xlsx')"
   ]
  },
  {
   "cell_type": "code",
   "execution_count": null,
   "metadata": {},
   "outputs": [],
   "source": [
    "df1=df_media3[df_media3['sum']>0]\n",
    "df2=df1[df1['sum']<1000]\n",
    "\n",
    "ax=sns.histplot(x='sum', data=df2, color=colours[1], edgecolor='white')\n",
    "\n",
    "font1 = {'family' : 'Times New Roman',\n",
    "    'weight' : 'normal',\n",
    "    'size'   : 15,}\n",
    "\n",
    "plt.xlabel('Number of reports',font1)\n",
    "plt.ylabel('Number of IEAs',font1)\n",
    "\n",
    "ax.set_ylim([0,25])\n",
    "\n",
    "\n",
    "file_name='significant_country_network/RobustTest/Media/'+'NumDisReports_Main3'+'.pdf'\n",
    "plt.savefig(file_name,  bbox_inches='tight')"
   ]
  },
  {
   "cell_type": "markdown",
   "metadata": {},
   "source": [
    "# Prepare data for regression"
   ]
  },
  {
   "cell_type": "markdown",
   "metadata": {},
   "source": [
    "## Centrality measures"
   ]
  },
  {
   "cell_type": "code",
   "execution_count": null,
   "metadata": {},
   "outputs": [],
   "source": [
    "def combined_date(df):\n",
    "    \n",
    "    parties=list(set(df['party_code']))\n",
    "    dfl=[]\n",
    "\n",
    "    for c in parties:\n",
    "\n",
    "        df11=df[df['party_code']==c]\n",
    "\n",
    "        df22=df11[['treaty_id','date_entry_into_force','date_ratification']]\n",
    "        df33=df22[df22['date_ratification'].notnull()][['treaty_id','date_ratification']].rename(columns={'date_ratification':'date'})\n",
    "        df44=df22[df22['date_ratification'].isnull()][['treaty_id','date_entry_into_force']].rename(columns={'date_entry_into_force':'date'})\n",
    "\n",
    "        df55=pd.concat([df33,df44]).sort_values(by='date')\n",
    "        df55['party_code']=c\n",
    "\n",
    "        dfl.append(df55)\n",
    "\n",
    "    dff=pd.concat(dfl)\n",
    "    \n",
    "    return dff"
   ]
  },
  {
   "cell_type": "code",
   "execution_count": null,
   "metadata": {},
   "outputs": [],
   "source": [
    "df_parties_total=pd.read_csv('IEA_data/parties.csv')\n",
    "\n",
    "list_TypeofDates=['date_entry_into_force','date_ratification','date_simple_sigNMture','date_definite_sigNMture','date_withdrawal','date_consent_to_be_bound','date_accession_approv','date_acceptance_approv','date_provisioNMl_application','date_succession','date_reservation']\n",
    "for i in list_TypeofDates:\n",
    "    df_parties_total[i]=pd.to_datetime(df_parties_total[i],format='%d/%m/%Y')\n",
    "df_parties_1=df_parties_total[(df_parties_total['date_entry_into_force']<datetime(1947,12,31))|(df_parties_total['date_ratification']<datetime(1947,12,31))]\n",
    "\n",
    "old_treaties=set(df_parties_1['treaty_id'])\n",
    "for i in old_treaties:\n",
    "    df_parties_total=df_parties_total[df_parties_total['treaty_id']!=i]\n",
    "\n",
    "\n",
    "dfcom=combined_date(df_parties_total)\n",
    "\n",
    "df1=dfcom.merge(df_doc[['treaty_id','date_treaty']], how='left', on='treaty_id')\n",
    "df1['span']=df1.apply(lambda x:round((x['date']-x['date_treaty']).days/365,2), axis=1)\n",
    "\n",
    "df1['year_treaty']=df1['date_treaty'].map(lambda x:x.year)\n",
    "df1['year_treaty_pre']=df1['year_treaty'].map(lambda x:x-1)"
   ]
  },
  {
   "cell_type": "code",
   "execution_count": null,
   "metadata": {},
   "outputs": [],
   "source": [
    "df_local=pd.read_csv('significant_country_network/weighted/1980/local_measures_country_network_1948.csv')\n",
    "\n",
    "years=list(set(df_local['year']))\n",
    "\n",
    "dfl=[]\n",
    "\n",
    "for year in years:\n",
    "#year=2000\n",
    "    dfr1=df_local[df_local['year']==year]\n",
    "    dfr1['rank_str']=dfr1['strength'].rank(method='min', ascending=True)\n",
    "    dfr1['rank_bet']=dfr1['betweenness_centrality'].rank( method='min',ascending=True)\n",
    "    dfr1['rank_clo']=dfr1['closeness_centrality'].rank(method='min', ascending=True)\n",
    "\n",
    "    dfr1['rank_str_cut']=pd.cut(dfr1['rank_str'], bins=4, labels=[1,2,3,4])\n",
    "    dfr1['rank_bet_cut']=pd.cut(dfr1['rank_bet'], bins=4, labels=[1,2,3,4])\n",
    "    dfr1['rank_clo_cut']=pd.cut(dfr1['rank_clo'], bins=4, labels=[1,2,3,4])\n",
    "\n",
    "\n",
    "    dfl.append(dfr1)\n",
    "dfrr=pd.concat(dfl)\n"
   ]
  },
  {
   "cell_type": "code",
   "execution_count": null,
   "metadata": {},
   "outputs": [],
   "source": [
    "df2=df1.merge(dfrr, how='left', right_on=['year','country'], left_on=['year_treaty_pre','party_code',])\n",
    "df3=df2.drop(columns=['country','country_iso_a3','year','local_clustering_coefficient','degree'])\n",
    "df3.rename(columns={'date':'date_rati',},inplace=True)\n",
    "df3['year_rati']=df3['date_rati'].map(lambda x:x.year)\n",
    "\n",
    "cols=['treaty_id',\n",
    " 'date_rati',\n",
    "'year_rati',\n",
    " 'party_code',\n",
    " 'country_name',\n",
    " 'date_treaty',\n",
    "'span',\n",
    " 'year_treaty',\n",
    " 'year_treaty_pre',\n",
    " 'strength',\n",
    " 'closeness_centrality',\n",
    " 'betweenness_centrality',\n",
    "'rank_str','rank_bet','rank_clo','rank_str_cut','rank_bet_cut','rank_clo_cut', ]\n",
    "\n",
    "df4=df3[cols]\n",
    "\n",
    "df4.to_csv('significant_country_network/RobustTest/Regression/regression_centrality_cut.csv', index=False, sep=',')"
   ]
  },
  {
   "cell_type": "markdown",
   "metadata": {},
   "source": [
    "## Data of media coverages and citations of treaties"
   ]
  },
  {
   "cell_type": "code",
   "execution_count": null,
   "metadata": {},
   "outputs": [],
   "source": [
    "df1=dfcom.merge(df_doc[['treaty_id','date_treaty']], how='left', on='treaty_id')\n",
    "df1['span']=df1.apply(lambda x:round((x['date']-x['date_treaty']).days/365,2), axis=1)\n",
    "df1['date_treaty_pre']=df1['date_treaty'].map(lambda x:x.year-1)\n",
    "\n",
    "dfcite=pd.read_csv('significant_country_network/RobustTest/Citation/mean_citations.csv', sep=',')\n",
    "dfmedia=pd.read_csv('significant_country_network/RobustTest/Citation/mean_media.csv', sep=',')\n",
    "\n",
    "df2=df1.merge(dfcite, how='left', right_on=['year','party_code'], left_on=['date_treaty_pre','party_code'])\n",
    "df3=df2.drop(columns=['year']).rename(columns={'mean':'mean_citations'})\n",
    "\n",
    "df4=df3.merge(dfmedia, how='left', right_on=['year','party_code'], left_on=['date_treaty_pre','party_code'])\n",
    "df5=df4.drop(columns=['year']).rename(columns={'mean':'mean_reports'})\n",
    "\n",
    "df6=df5.merge(dfloc, how='left', right_on=['country','year'], left_on=['party_code','date_treaty_pre'])\n",
    "df7=df6[(df6['country'].notnull())&(df6['year'].notnull())].drop(columns=['country','year'])\n",
    "\n",
    "df7.to_csv('significant_country_network/RobustTest/Regression/regression_citations_media.csv', sep=',', index=False)"
   ]
  },
  {
   "cell_type": "markdown",
   "metadata": {},
   "source": [
    "## Data of number of UN/UN-agency treaties"
   ]
  },
  {
   "cell_type": "code",
   "execution_count": null,
   "metadata": {},
   "outputs": [],
   "source": [
    "df_depo=pd.read_csv('IEA_data/depository_rel.csv')\n",
    "\n",
    "# number of UN treaties\n",
    "df1=dfcom.merge(df_depo, how='left', on='treaty_id')\n",
    "df2=df1[df1['depository_id']==18]\n",
    "\n",
    "dfl=[]\n",
    "\n",
    "for year in range(1948,2016):\n",
    "\n",
    "    df3=df2[df2['date']<=datetime(year,12,31)].groupby(by='party_code').count().reset_index()[['party_code','treaty_id']].rename(columns={'treaty_id':'num_UN'})\n",
    "    df3['year']=year\n",
    "    \n",
    "    dfl.append(df3)\n",
    "    \n",
    "df_UN=pd.concat(dfl)\n"
   ]
  },
  {
   "cell_type": "code",
   "execution_count": null,
   "metadata": {},
   "outputs": [],
   "source": [
    "# number of UN-agency treaties\n",
    "\n",
    "df2=dfcom.merge(df_depo, how='left', on='treaty_id')\n",
    "df3=df2[(df2['depository_id']==12)|(df2['depository_id']==16)|(df2['depository_id']==23)|(df2['depository_id']==32)|(df2['depository_id']==67)]\n",
    "\n",
    "dfl=[]\n",
    "\n",
    "for year in range(1948, 2016):\n",
    "    \n",
    "    df4=df3[df3['date']<=datetime(year,12,31)]\n",
    "    df5=df4.groupby(by='party_code').count().reset_index()[['party_code','treaty_id']].rename(columns={'treaty_id':'num_UNa'})\n",
    "    df5['year']=year\n",
    "    dfl.append(df5)\n",
    "df_UNa=pd.concat(dfl)"
   ]
  },
  {
   "cell_type": "code",
   "execution_count": null,
   "metadata": {},
   "outputs": [],
   "source": [
    "# non_UN&UN agency\n",
    "df2=dfcom.merge(df_depo, how='left', on='treaty_id')\n",
    "df3=df2[(df2['depository_id']!=18)&(df2['depository_id']!=12)&(df2['depository_id']!=16)&(df2['depository_id']!=23)&(df2['depository_id']!=32)&(df2['depository_id']!=67)]\n",
    "\n",
    "dfl=[]\n",
    "\n",
    "for year in range(1948, 2016):\n",
    "    \n",
    "    df4=df3[df3['date']<=datetime(year,12,31)]\n",
    "    df5=df4.groupby(by='party_code').count().reset_index()[['party_code','treaty_id']].rename(columns={'treaty_id':'num_nonUN&UNa'})\n",
    "    df5['year']=year\n",
    "    dfl.append(df5)\n",
    "df_non=pd.concat(dfl)"
   ]
  },
  {
   "cell_type": "code",
   "execution_count": null,
   "metadata": {},
   "outputs": [],
   "source": [
    "dfun=df_UN.merge(df_UNa, how='outer', on=['party_code','year'])\n",
    "dfunn=dfun.merge(df_non, how='outer',on=['party_code','year'])\n",
    "\n",
    "dff=dfunn.sort_values(by=['party_code','year'])"
   ]
  },
  {
   "cell_type": "code",
   "execution_count": null,
   "metadata": {},
   "outputs": [],
   "source": [
    "# Select the same data points as centrality measures\n",
    "df1=dfcom.merge(df_doc[['treaty_id','date_treaty']], how='left', on='treaty_id')\n",
    "df1['span']=df1.apply(lambda x:round((x['date']-x['date_treaty']).days/365,2), axis=1)\n",
    "\n",
    "\n",
    "df1['year_treaty']=df1['date_treaty'].map(lambda x:x.year)\n",
    "df1['year_treaty_pre']=df1['year_treaty'].map(lambda x:x-1)\n",
    "\n",
    "df2=df1.merge(dff, how='left', right_on=['year','party_code'], left_on=['year_treaty_pre','party_code',])\n",
    "\n",
    "df2.rename(columns={'date':'date_rati',},inplace=True)\n",
    "df2['year_rati']=df2['date_rati'].map(lambda x:x.year)\n",
    "\n",
    "cols=['treaty_id',\n",
    " 'date_rati',\n",
    "'year_rati',\n",
    " 'party_code',\n",
    " 'date_treaty',\n",
    "\n",
    " 'span',\n",
    " 'year_treaty',\n",
    " 'year_treaty_pre',\n",
    " 'num_UN',\n",
    " 'year',\n",
    " 'num_UNa',\n",
    "'num_nonUN&UNa',\n",
    " ]\n",
    "\n",
    "dfr = pd.DataFrame(np.zeros((len(df2), 3)), columns=['num_UN','num_UNa','num_nonUN&UNa'])\n",
    "df3=df2[cols].fillna(dfr).drop(columns=['year'])\n",
    "\n",
    "dfloc=df_local[['country','year']]\n",
    "\n",
    "df4=df3.merge(dfloc, how='left', right_on=['country','year'], left_on=['party_code','year_treaty_pre'])\n",
    "df5=df4[(df4['country'].notnull())&(df4['year'].notnull())].drop(columns=['country','year'])\n",
    "\n",
    "df5.to_csv('significant_country_network/RobustTest/Regression/regression_UN.csv', sep=',', index=False)"
   ]
  }
 ],
 "metadata": {
  "kernelspec": {
   "display_name": "Python 3",
   "language": "python",
   "name": "python3"
  },
  "language_info": {
   "codemirror_mode": {
    "name": "ipython",
    "version": 3
   },
   "file_extension": ".py",
   "mimetype": "text/x-python",
   "name": "python",
   "nbconvert_exporter": "python",
   "pygments_lexer": "ipython3",
   "version": "3.7.2"
  }
 },
 "nbformat": 4,
 "nbformat_minor": 4
}
